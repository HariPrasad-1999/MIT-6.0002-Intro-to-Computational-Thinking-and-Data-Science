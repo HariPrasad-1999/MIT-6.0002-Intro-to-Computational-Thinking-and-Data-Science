{
  "nbformat": 4,
  "nbformat_minor": 0,
  "metadata": {
    "colab": {
      "name": "1) Introduction, Optimization Problem.ipynb",
      "provenance": []
    },
    "kernelspec": {
      "name": "python3",
      "display_name": "Python 3"
    },
    "language_info": {
      "name": "python"
    }
  },
  "cells": [
    {
      "cell_type": "code",
      "source": [
        "class Food(object):\n",
        "  def __init__(self,n,v,w):\n",
        "    self.name=n\n",
        "    self.value=v\n",
        "    self.calories=w\n",
        "  \n",
        "  def getValue(self):\n",
        "    return self.value\n",
        "\n",
        "  def getCost(self):\n",
        "    return self.calories\n",
        "\n",
        "  def density(self):\n",
        "    return self.getValue()/self.getCost()\n",
        "\n",
        "  def __str__(self):\n",
        "    return self.name + ': <' + str(self.value) + ', ' + str(self.calories) + '>'    \n",
        "\n",
        "  \n",
        "# Build the Menu\n",
        "def buildMenu(names,values,calories):\n",
        "  \"\"\" name, Values , Calories lists of same length. name a list of strings , Values & calories lists of number returns list of foods\"\"\"\n",
        "  menu=[]\n",
        "  for i in range(len(values)):    \n",
        "    menu.append(Food(names[i],values[i],calories[i]))\n",
        "  return menu  \n",
        "\n",
        "# Implementation of Flexible Greedy Algorithm\n",
        "def greedy(items,maxCost,keyFunction):\n",
        "  \"\"\"Assumes items of a list, MaxCost>=0 , keyFunction maps elements of items to numbers\"\"\"\n",
        "  itemsCopy=sorted(items,key=keyFunction,reverse=True)\n",
        "  result=[]\n",
        "  totalValue,totalCost=0.0,0.0\n",
        "\n",
        "  for i in range(len(itemsCopy)):\n",
        "    if (totalCost+itemsCopy[i].getCost()) <= maxCost:\n",
        "      result.append(itemsCopy[i])\n",
        "      totalCost += itemsCopy[i].getCost()\n",
        "      totalValue += itemsCopy[i].getValue()\n",
        "\n",
        "  return (result,totalValue)  \n",
        "\n",
        "def testGreedy(items, constraint, keyFunction):\n",
        "  taken, val = greedy(items, constraint, keyFunction)\n",
        "  print('Total value of items taken =', val)\n",
        "  for item in taken:\n",
        "    print(' ', item)\n",
        "\n",
        "def testGreedys(foods, maxUnits):\n",
        "  print('Use greedy by value to allocate', maxUnits,'calories')\n",
        "  testGreedy(foods, maxUnits, Food.getValue)\n",
        "  \n",
        "  print('\\nUse greedy by cost to allocate', maxUnits,'calories')\n",
        "  testGreedy(foods, maxUnits,lambda x: 1/Food.getCost(x))\n",
        "\n",
        "  print('\\nUse greedy by density to allocate', maxUnits,'calories')\n",
        "  testGreedy(foods, maxUnits, Food.density)\n",
        "\n",
        "\n",
        "names = ['wine', 'beer', 'pizza', 'burger', 'fries','cola', 'apple', 'donut', 'cake']\n",
        "values = [89,90,95,100,90,79,50,10]\n",
        "calories = [123,154,258,354,365,150,95,195]\n",
        "foods = buildMenu(names, values, calories)\n",
        "testGreedys(foods, 750)    "
      ],
      "metadata": {
        "id": "Do1qHEeMTthb",
        "colab": {
          "base_uri": "https://localhost:8080/"
        },
        "outputId": "ff7b150f-54d7-44cd-ecfd-c815ba14e0e2"
      },
      "execution_count": null,
      "outputs": [
        {
          "output_type": "stream",
          "name": "stdout",
          "text": [
            "Use greedy by value to allocate 750 calories\n",
            "Total value of items taken = 284.0\n",
            "  burger: <100, 354>\n",
            "  pizza: <95, 258>\n",
            "  wine: <89, 123>\n",
            "\n",
            "Use greedy by cost to allocate 750 calories\n",
            "Total value of items taken = 318.0\n",
            "  apple: <50, 95>\n",
            "  wine: <89, 123>\n",
            "  cola: <79, 150>\n",
            "  beer: <90, 154>\n",
            "  donut: <10, 195>\n",
            "\n",
            "Use greedy by density to allocate 750 calories\n",
            "Total value of items taken = 318.0\n",
            "  wine: <89, 123>\n",
            "  beer: <90, 154>\n",
            "  cola: <79, 150>\n",
            "  apple: <50, 95>\n",
            "  donut: <10, 195>\n"
          ]
        }
      ]
    },
    {
      "cell_type": "code",
      "source": [
        "testGreedys(foods, 1000)"
      ],
      "metadata": {
        "id": "_nWFZSBux6gs",
        "outputId": "b945d7a3-443b-4903-9076-7fa14cbc0142",
        "colab": {
          "base_uri": "https://localhost:8080/"
        }
      },
      "execution_count": null,
      "outputs": [
        {
          "output_type": "stream",
          "name": "stdout",
          "text": [
            "Use greedy by value to allocate 1000 calories\n",
            "Total value of items taken = 424.0\n",
            "  burger: <100, 354>\n",
            "  pizza: <95, 258>\n",
            "  beer: <90, 154>\n",
            "  wine: <89, 123>\n",
            "  apple: <50, 95>\n",
            "\n",
            "Use greedy by cost to allocate 1000 calories\n",
            "Total value of items taken = 413.0\n",
            "  apple: <50, 95>\n",
            "  wine: <89, 123>\n",
            "  cola: <79, 150>\n",
            "  beer: <90, 154>\n",
            "  donut: <10, 195>\n",
            "  pizza: <95, 258>\n",
            "\n",
            "Use greedy by density to allocate 1000 calories\n",
            "Total value of items taken = 413.0\n",
            "  wine: <89, 123>\n",
            "  beer: <90, 154>\n",
            "  cola: <79, 150>\n",
            "  apple: <50, 95>\n",
            "  pizza: <95, 258>\n",
            "  donut: <10, 195>\n"
          ]
        }
      ]
    },
    {
      "cell_type": "markdown",
      "source": [
        "# How Efficient is this Algorithm?\n",
        "---\n",
        "ANS:- Pretty good \n"
      ],
      "metadata": {
        "id": "mxncUdSspawn"
      }
    },
    {
      "cell_type": "markdown",
      "source": [
        "<img src=\"https://raw.githubusercontent.com/HariPrasad-1999/MIT-6.0002-Intro-to-Computational-Thinking-and-Data-Science/main/Capture.PNG\"></img>"
      ],
      "metadata": {
        "id": "7fF3ysdSmCQz"
      }
    }
  ]
}